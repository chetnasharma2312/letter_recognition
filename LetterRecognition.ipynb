{
 "cells": [
  {
   "cell_type": "code",
   "execution_count": 1,
   "id": "2a2c7365",
   "metadata": {
    "id": "2a2c7365"
   },
   "outputs": [],
   "source": [
    "# Importing libraries\n",
    "import pandas as pd\n",
    "import numpy as np\n",
    "import seaborn as sns\n",
    "import matplotlib.pyplot as plt\n",
    "from sklearn import preprocessing\n",
    "from sklearn.metrics import accuracy_score,confusion_matrix,classification_report\n",
    "from sklearn.metrics import precision_recall_fscore_support as prfs\n",
    "from sklearn.model_selection import train_test_split,GridSearchCV,RandomizedSearchCV,KFold\n",
    "from sklearn.preprocessing import StandardScaler,RobustScaler,MinMaxScaler,scale\n",
    "from sklearn.model_selection import train_test_split\n",
    "from sklearn.model_selection import cross_val_score\n",
    "from sklearn.linear_model import LogisticRegression\n",
    "from sklearn.tree import DecisionTreeClassifier\n",
    "from sklearn.neighbors import KNeighborsClassifier\n",
    "from sklearn.svm import SVC"
   ]
  },
  {
   "cell_type": "code",
   "execution_count": 2,
   "id": "c2198141",
   "metadata": {
    "id": "c2198141"
   },
   "outputs": [],
   "source": [
    "# Loading dataset\n",
    "df = pd.read_csv('LetterRecognition.csv', header=0)"
   ]
  },
  {
   "cell_type": "code",
   "execution_count": 3,
   "id": "3d9f7c57",
   "metadata": {
    "colab": {
     "base_uri": "https://localhost:8080/"
    },
    "id": "3d9f7c57",
    "outputId": "2223a0c0-1144-49bd-adc1-18363578836b"
   },
   "outputs": [
    {
     "name": "stdout",
     "output_type": "stream",
     "text": [
      "<class 'pandas.core.frame.DataFrame'>\n",
      "RangeIndex: 20000 entries, 0 to 19999\n",
      "Data columns (total 17 columns):\n",
      " #   Column  Non-Null Count  Dtype \n",
      "---  ------  --------------  ----- \n",
      " 0   letter  20000 non-null  object\n",
      " 1    x-box  20000 non-null  int64 \n",
      " 2    y-box  20000 non-null  int64 \n",
      " 3    width  20000 non-null  int64 \n",
      " 4    high   20000 non-null  int64 \n",
      " 5    onpix  20000 non-null  int64 \n",
      " 6    x-bar  20000 non-null  int64 \n",
      " 7    y-bar  20000 non-null  int64 \n",
      " 8    x2bar  20000 non-null  int64 \n",
      " 9    y2bar  20000 non-null  int64 \n",
      " 10   xybar  20000 non-null  int64 \n",
      " 11   x2ybr  20000 non-null  int64 \n",
      " 12   xy2br  20000 non-null  int64 \n",
      " 13   x-ege  20000 non-null  int64 \n",
      " 14   xegvy  20000 non-null  int64 \n",
      " 15   y-ege  20000 non-null  int64 \n",
      " 16   yegvx  20000 non-null  int64 \n",
      "dtypes: int64(16), object(1)\n",
      "memory usage: 2.6+ MB\n",
      "None\n",
      "Index(['letter', ' x-box', ' y-box', ' width', ' high', ' onpix', ' x-bar',\n",
      "       ' y-bar', ' x2bar', ' y2bar', ' xybar', ' x2ybr', ' xy2br', ' x-ege',\n",
      "       ' xegvy', ' y-ege', ' yegvx'],\n",
      "      dtype='object')\n"
     ]
    },
    {
     "data": {
      "text/plain": [
       "20000"
      ]
     },
     "execution_count": 3,
     "metadata": {},
     "output_type": "execute_result"
    }
   ],
   "source": [
    "# Data Types\n",
    "print(df.info())\n",
    "\n",
    "# Head\n",
    "df.head()\n",
    "\n",
    "# Showing columns in dataset\n",
    "print(df.columns)\n",
    "\n",
    "# Showing instances in dataset\n",
    "len(df)"
   ]
  },
  {
   "cell_type": "code",
   "execution_count": 4,
   "id": "wNv42ZMdl6Zq",
   "metadata": {
    "colab": {
     "base_uri": "https://localhost:8080/",
     "height": 727
    },
    "id": "wNv42ZMdl6Zq",
    "outputId": "6169cd66-3ec1-437f-c9fd-6aee9a1f833e"
   },
   "outputs": [
    {
     "name": "stdout",
     "output_type": "stream",
     "text": [
      "Index(['letter', 'xbox', 'ybox', 'width', 'height', 'onpix', 'xbar', 'ybar',\n",
      "       'x2bar', 'y2bar', 'xybar', 'x2ybar', 'xy2bar', 'xedge', 'xedgey',\n",
      "       'yedge', 'yedgex'],\n",
      "      dtype='object')\n",
      "['A', 'B', 'C', 'D', 'E', 'F', 'G', 'H', 'I', 'J', 'K', 'L', 'M', 'N', 'O', 'P', 'Q', 'R', 'S', 'T', 'U', 'V', 'W', 'X', 'Y', 'Z']\n"
     ]
    },
    {
     "data": {
      "text/plain": [
       "<AxesSubplot:xlabel='letter', ylabel='xbox'>"
      ]
     },
     "execution_count": 4,
     "metadata": {},
     "output_type": "execute_result"
    },
    {
     "data": {
      "image/png": "[encoded data removed]",
      "text/plain": [
       "<Figure size 1600x800 with 1 Axes>"
      ]
     },
     "metadata": {},
     "output_type": "display_data"
    }
   ],
   "source": [
    "# Reindexing the column names\n",
    "df.columns = ['letter', 'xbox', 'ybox', 'width', 'height', 'onpix', 'xbar',\n",
    "       'ybar', 'x2bar', 'y2bar', 'xybar', 'x2ybar', 'xy2bar', 'xedge',\n",
    "       'xedgey', 'yedge', 'yedgex']\n",
    "print(df.columns)\n",
    "order = list(np.sort(df['letter'].unique()))\n",
    "print(order)\n",
    "\n",
    "# Plot to show how various attributes changes with the letters\n",
    "plt.figure(figsize=(16, 8))\n",
    "sns.barplot(x='letter', y='xbox', \n",
    "            data=df, \n",
    "            order=order)"
   ]
  },
  {
   "cell_type": "code",
   "execution_count": 5,
   "id": "3aOT_q1ZYn_f",
   "metadata": {
    "colab": {
     "base_uri": "https://localhost:8080/"
    },
    "id": "3aOT_q1ZYn_f",
    "outputId": "42a7354a-9585-4bff-cc74-194fb786557c"
   },
   "outputs": [
    {
     "data": {
      "text/plain": [
       "xbox      4.02\n",
       "ybox      7.04\n",
       "width     5.12\n",
       "height    5.37\n",
       "onpix     3.51\n",
       "xbar      6.90\n",
       "ybar      7.50\n",
       "x2bar     4.63\n",
       "y2bar     5.18\n",
       "xybar     8.28\n",
       "x2ybar    6.45\n",
       "xy2bar    7.93\n",
       "xedge     3.05\n",
       "xedgey    8.34\n",
       "yedge     3.69\n",
       "yedgex    7.80\n",
       "dtype: float64"
      ]
     },
     "execution_count": 5,
     "metadata": {},
     "output_type": "execute_result"
    }
   ],
   "source": [
    "# Calculating average feature values\n",
    "round(df.drop('letter', axis=1).mean(), 2)"
   ]
  },
  {
   "cell_type": "markdown",
   "id": "4e9bfcc6",
   "metadata": {},
   "source": [
    "Although average values are not very different, scaling them can still be beneficial."
   ]
  },
  {
   "cell_type": "code",
   "execution_count": 6,
   "id": "49d59254",
   "metadata": {
    "id": "49d59254"
   },
   "outputs": [],
   "source": [
    "# Splitting dataset into feature and target variable (X and y)\n",
    "X = df.drop(\"letter\", axis = 1)\n",
    "y = df['letter']\n",
    "\n",
    "# Scaling features\n",
    "X_scaled = scale(X)\n",
    "\n",
    "# Splitting dataset into training and test sets\n",
    "X_train, X_test, y_train, y_test = train_test_split(X_scaled, y, test_size=0.25)"
   ]
  },
  {
   "cell_type": "markdown",
   "id": "12f13d6f",
   "metadata": {
    "id": "gLx3J9Vvde_1"
   },
   "source": [
    "## 1. K-Nearest Neighbor Classification (KNN)"
   ]
  },
  {
   "cell_type": "code",
   "execution_count": 8,
   "id": "c17a0878",
   "metadata": {
    "colab": {
     "base_uri": "https://localhost:8080/"
    },
    "id": "0742ab14",
    "outputId": "bb6dbf96-f772-425d-fc81-964531282a45"
   },
   "outputs": [
    {
     "name": "stderr",
     "output_type": "stream",
     "text": [
      "C:\\Users\\Dell\\anaconda3\\lib\\site-packages\\sklearn\\neighbors\\_classification.py:228: FutureWarning: Unlike other reduction functions (e.g. `skew`, `kurtosis`), the default behavior of `mode` typically preserves the axis it acts along. In SciPy 1.11.0, this behavior will change: the default value of `keepdims` will become False, the `axis` over which the statistic is taken will be eliminated, and the value None will no longer be accepted. Set `keepdims` to True or False to avoid this warning.\n",
      "  mode, _ = stats.mode(_y[neigh_ind, k], axis=1)\n"
     ]
    },
    {
     "name": "stdout",
     "output_type": "stream",
     "text": [
      "Accuracy score for KNN Algorithm:  93.47999999999999 %\n"
     ]
    },
    {
     "name": "stderr",
     "output_type": "stream",
     "text": [
      "C:\\Users\\Dell\\anaconda3\\lib\\site-packages\\sklearn\\neighbors\\_classification.py:228: FutureWarning: Unlike other reduction functions (e.g. `skew`, `kurtosis`), the default behavior of `mode` typically preserves the axis it acts along. In SciPy 1.11.0, this behavior will change: the default value of `keepdims` will become False, the `axis` over which the statistic is taken will be eliminated, and the value None will no longer be accepted. Set `keepdims` to True or False to avoid this warning.\n",
      "  mode, _ = stats.mode(_y[neigh_ind, k], axis=1)\n"
     ]
    },
    {
     "name": "stdout",
     "output_type": "stream",
     "text": [
      "0.9348 0.9348 0.9348\n"
     ]
    },
    {
     "name": "stderr",
     "output_type": "stream",
     "text": [
      "C:\\Users\\Dell\\anaconda3\\lib\\site-packages\\sklearn\\neighbors\\_classification.py:228: FutureWarning: Unlike other reduction functions (e.g. `skew`, `kurtosis`), the default behavior of `mode` typically preserves the axis it acts along. In SciPy 1.11.0, this behavior will change: the default value of `keepdims` will become False, the `axis` over which the statistic is taken will be eliminated, and the value None will no longer be accepted. Set `keepdims` to True or False to avoid this warning.\n",
      "  mode, _ = stats.mode(_y[neigh_ind, k], axis=1)\n"
     ]
    },
    {
     "name": "stdout",
     "output_type": "stream",
     "text": [
      "              precision    recall  f1-score   support\n",
      "\n",
      "           A       0.98      0.98      0.98       199\n",
      "           B       0.89      0.97      0.93       211\n",
      "           C       0.96      0.94      0.95       182\n",
      "           D       0.86      0.96      0.91       198\n",
      "           E       0.90      0.92      0.91       191\n",
      "           F       0.92      0.92      0.92       215\n",
      "           G       0.91      0.92      0.91       169\n",
      "           H       0.84      0.85      0.85       171\n",
      "           I       0.94      0.96      0.95       189\n",
      "           J       0.95      0.91      0.93       186\n",
      "           K       0.88      0.84      0.86       195\n",
      "           L       0.95      0.96      0.96       194\n",
      "           M       0.95      0.95      0.95       190\n",
      "           N       0.96      0.93      0.95       199\n",
      "           O       0.88      0.96      0.92       169\n",
      "           P       0.92      0.89      0.91       190\n",
      "           Q       0.96      0.91      0.94       187\n",
      "           R       0.91      0.92      0.91       208\n",
      "           S       0.94      0.96      0.95       175\n",
      "           T       0.99      0.95      0.97       225\n",
      "           U       0.97      0.97      0.97       200\n",
      "           V       0.95      0.94      0.94       186\n",
      "           W       1.00      0.94      0.97       194\n",
      "           X       0.94      0.92      0.93       185\n",
      "           Y       0.97      0.93      0.95       205\n",
      "           Z       0.99      0.95      0.97       187\n",
      "\n",
      "    accuracy                           0.93      5000\n",
      "   macro avg       0.94      0.93      0.93      5000\n",
      "weighted avg       0.94      0.93      0.93      5000\n",
      "\n"
     ]
    }
   ],
   "source": [
    "# Creating and Training the KNN Classifier\n",
    "knn_clsfr = KNeighborsClassifier(n_neighbors=10)\n",
    "knn_clsfr.fit(X_train, y_train.values.ravel())\n",
    "\n",
    "# Testing accuracy of KNN algorithm\n",
    "acc = accuracy_score(y_test,knn_clsfr.predict(X_test))\n",
    "print('Accuracy score for KNN Algorithm: ', acc*100,'%')\n",
    "\n",
    "# Precision, Recall and F1-score on test split\n",
    "prec, rec, f, s = prfs(y_test,knn_clsfr.predict(X_test), average=\"micro\")\n",
    "print(prec, rec, f)\n",
    "print(classification_report(y_test, knn_clsfr.predict(X_test)))"
   ]
  },
  {
   "cell_type": "markdown",
   "id": "d5966a6b",
   "metadata": {
    "id": "08ed2c77"
   },
   "source": [
    "## 2. Decision Tree Classification"
   ]
  },
  {
   "cell_type": "code",
   "execution_count": 9,
   "id": "a62586fe",
   "metadata": {
    "colab": {
     "base_uri": "https://localhost:8080/"
    },
    "id": "c73c3eaa",
    "outputId": "760785f9-c977-4ed5-adf0-dd933895f8e2"
   },
   "outputs": [
    {
     "name": "stdout",
     "output_type": "stream",
     "text": [
      "Accuracy score for Decision Trees Algorithm:  86.6 %\n",
      "0.866 0.866 0.866\n",
      "              precision    recall  f1-score   support\n",
      "\n",
      "           A       0.93      0.94      0.94       199\n",
      "           B       0.77      0.82      0.79       211\n",
      "           C       0.90      0.86      0.88       182\n",
      "           D       0.84      0.79      0.81       198\n",
      "           E       0.84      0.83      0.83       191\n",
      "           F       0.85      0.81      0.83       215\n",
      "           G       0.81      0.79      0.80       169\n",
      "           H       0.75      0.77      0.76       171\n",
      "           I       0.92      0.92      0.92       189\n",
      "           J       0.88      0.89      0.89       186\n",
      "           K       0.83      0.82      0.82       195\n",
      "           L       0.90      0.88      0.89       194\n",
      "           M       0.89      0.93      0.91       190\n",
      "           N       0.87      0.89      0.88       199\n",
      "           O       0.78      0.85      0.82       169\n",
      "           P       0.87      0.88      0.87       190\n",
      "           Q       0.85      0.84      0.85       187\n",
      "           R       0.82      0.83      0.83       208\n",
      "           S       0.81      0.90      0.85       175\n",
      "           T       0.92      0.86      0.89       225\n",
      "           U       0.92      0.91      0.92       200\n",
      "           V       0.92      0.93      0.92       186\n",
      "           W       0.97      0.92      0.95       194\n",
      "           X       0.87      0.89      0.88       185\n",
      "           Y       0.91      0.88      0.89       205\n",
      "           Z       0.90      0.87      0.88       187\n",
      "\n",
      "    accuracy                           0.87      5000\n",
      "   macro avg       0.87      0.87      0.87      5000\n",
      "weighted avg       0.87      0.87      0.87      5000\n",
      "\n"
     ]
    }
   ],
   "source": [
    "# Creating and Training the Decision Tree Classifier\n",
    "dt_clsfr = DecisionTreeClassifier(random_state=0)\n",
    "dt_clsfr.fit(X_train, y_train.values.ravel())\n",
    "\n",
    "# Testing accuracy of Decision Trees Algorithm\n",
    "acc = accuracy_score(y_test, dt_clsfr.predict(X_test))\n",
    "print('Accuracy score for Decision Trees Algorithm: ', acc*100,'%')\n",
    "\n",
    "# Precision, Recall and F1-score on test split\n",
    "prec, rec, f, s = prfs(y_test, dt_clsfr.predict(X_test), average=\"micro\")\n",
    "print(prec, rec, f)\n",
    "print(classification_report(y_test, dt_clsfr.predict(X_test)))"
   ]
  },
  {
   "cell_type": "markdown",
   "id": "gLx3J9Vvde_1",
   "metadata": {
    "id": "gLx3J9Vvde_1"
   },
   "source": [
    "## 3. Support Vector Classification (SVM)"
   ]
  },
  {
   "cell_type": "markdown",
   "id": "z_YafOCZ024I",
   "metadata": {
    "id": "z_YafOCZ024I"
   },
   "source": [
    "### Linear model"
   ]
  },
  {
   "cell_type": "code",
   "execution_count": 11,
   "id": "9139a011",
   "metadata": {
    "colab": {
     "base_uri": "https://localhost:8080/"
    },
    "id": "9139a011",
    "outputId": "3b069c55-6d80-41fb-bfc0-27ecac8339c0"
   },
   "outputs": [
    {
     "name": "stdout",
     "output_type": "stream",
     "text": [
      "Accuracy score for Support Vector:  84.82 %\n",
      "0.8482 0.8482 0.8482\n",
      "[[189   1   0   1   0   0   0   0   0   0   0   0   0   0   0   0   0   2\n",
      "    1   0   2   0   0   0   3   0]\n",
      " [  1 185   0   1   1   0   5   7   0   0   1   0   0   1   0   1   0   8\n",
      "    0   0   0   0   0   0   0   0]\n",
      " [  0   0 153   0   5   0   4   1   0   0  16   0   0   0   2   0   0   0\n",
      "    0   0   1   0   0   0   0   0]\n",
      " [  2   8   0 178   0   0   0   2   0   0   0   0   0   3   2   1   0   0\n",
      "    0   0   2   0   0   0   0   0]\n",
      " [  0   4   2   0 167   1   6   0   0   0   1   2   0   0   0   0   2   1\n",
      "    3   2   0   0   0   0   0   0]\n",
      " [  0   1   0   1   3 187   2   0   0   3   0   0   0   2   0   5   0   0\n",
      "    5   5   0   0   0   0   0   1]\n",
      " [  1   1   6   5   1   1 122   4   0   0   4   6   0   0   3   0   4   4\n",
      "    3   0   0   2   2   0   0   0]\n",
      " [  0   4   3  14   0   2   1 112   0   0   5   0   0   2   9   1   1  11\n",
      "    0   0   2   0   0   3   1   0]\n",
      " [  0   1   2   5   1   3   0   0 162   5   0   0   0   0   1   0   0   0\n",
      "    4   0   0   0   0   2   0   3]\n",
      " [  4   0   0   2   0   4   0   0  11 158   0   0   0   0   0   0   0   0\n",
      "    4   0   0   0   0   1   0   2]\n",
      " [  1   0   2   4   2   0   2   2   0   0 161   1   0   0   0   0   0  11\n",
      "    0   0   1   0   0   8   0   0]\n",
      " [  0   0   1   2   6   0   3   2   0   0   1 172   0   0   0   0   4   0\n",
      "    1   0   0   0   0   2   0   0]\n",
      " [  0   1   0   0   0   0   0   3   0   0   0   0 178   1   1   0   0   1\n",
      "    0   0   3   0   2   0   0   0]\n",
      " [  1   0   0   6   0   0   0   5   0   0   2   0   1 179   1   1   0   2\n",
      "    0   0   0   1   0   0   0   0]\n",
      " [  3   0   0   2   0   0   2  14   0   1   0   0   0   0 134   2   2   2\n",
      "    0   0   2   0   5   0   0   0]\n",
      " [  0   0   0   1   0  17   1   0   1   0   2   0   0   0   3 155   1   0\n",
      "    0   0   0   1   0   0   8   0]\n",
      " [  2   1   0   2   2   0   4   2   0   1   0   1   0   0   5   0 155   0\n",
      "   11   0   0   0   0   0   0   1]\n",
      " [  1   5   0   6   0   0   3   9   0   0  13   1   0   1   1   1   2 164\n",
      "    0   0   0   1   0   0   0   0]\n",
      " [  0   4   0   0   9   7  10   0   3   1   0   1   0   0   0   0   5   1\n",
      "  119   4   0   0   0   0   0  11]\n",
      " [  1   0   0   2   4   3   2   1   1   0   1   0   0   0   0   4   1   2\n",
      "    3 192   2   0   0   1   3   2]\n",
      " [  1   1   0   0   0   0   0   3   0   0   3   0   4   1   2   0   0   0\n",
      "    0   0 185   0   0   0   0   0]\n",
      " [  1   3   0   0   0   0   1   2   0   0   1   0   0   0   0   2   0   0\n",
      "    0   0   0 167   4   0   5   0]\n",
      " [  0   0   0   0   0   0   3   2   0   0   0   0   6   1   1   0   0   2\n",
      "    0   0   0   1 178   0   0   0]\n",
      " [  0   1   0   2   2   1   0   0   2   1   1   1   0   0   0   0   0   2\n",
      "    0   0   0   0   0 171   0   1]\n",
      " [  2   0   0   1   0   2   0   1   0   0   0   0   0   1   0   1   2   0\n",
      "    2   8   2   9   0   2 172   0]\n",
      " [  2   0   0   0   3   1   0   0   0  13   0   0   0   0   0   0   1   0\n",
      "   19   1   0   0   0   1   0 146]]\n",
      "              precision    recall  f1-score   support\n",
      "\n",
      "           A       0.89      0.95      0.92       199\n",
      "           B       0.84      0.88      0.86       211\n",
      "           C       0.91      0.84      0.87       182\n",
      "           D       0.76      0.90      0.82       198\n",
      "           E       0.81      0.87      0.84       191\n",
      "           F       0.82      0.87      0.84       215\n",
      "           G       0.71      0.72      0.72       169\n",
      "           H       0.65      0.65      0.65       171\n",
      "           I       0.90      0.86      0.88       189\n",
      "           J       0.86      0.85      0.86       186\n",
      "           K       0.76      0.83      0.79       195\n",
      "           L       0.93      0.89      0.91       194\n",
      "           M       0.94      0.94      0.94       190\n",
      "           N       0.93      0.90      0.92       199\n",
      "           O       0.81      0.79      0.80       169\n",
      "           P       0.89      0.82      0.85       190\n",
      "           Q       0.86      0.83      0.84       187\n",
      "           R       0.77      0.79      0.78       208\n",
      "           S       0.68      0.68      0.68       175\n",
      "           T       0.91      0.85      0.88       225\n",
      "           U       0.92      0.93      0.92       200\n",
      "           V       0.92      0.90      0.91       186\n",
      "           W       0.93      0.92      0.92       194\n",
      "           X       0.90      0.92      0.91       185\n",
      "           Y       0.90      0.84      0.87       205\n",
      "           Z       0.87      0.78      0.82       187\n",
      "\n",
      "    accuracy                           0.85      5000\n",
      "   macro avg       0.85      0.85      0.85      5000\n",
      "weighted avg       0.85      0.85      0.85      5000\n",
      "\n"
     ]
    }
   ],
   "source": [
    "# Creating and Training the Support Vector Classifier\n",
    "sv_clsfr = SVC(kernel='linear')\n",
    "sv_clsfr.fit(X_train, y_train)\n",
    "\n",
    "# Testing accuracy of SVM Algorithm\n",
    "acc = accuracy_score(y_test, sv_clsfr.predict(X_test))\n",
    "print('Accuracy score for Support Vector: ', acc*100,'%')\n",
    "\n",
    "# Precision, Recall and F1-score on test split\n",
    "prec, rec, f, s = prfs(y_test, sv_clsfr.predict(X_test), average=\"micro\")\n",
    "print(prec, rec, f)\n",
    "\n",
    "# Confusion matrix and classification report\n",
    "print(confusion_matrix(y_test, sv_clsfr.predict(X_test)))\n",
    "print(classification_report(y_test, sv_clsfr.predict(X_test)))"
   ]
  },
  {
   "cell_type": "markdown",
   "id": "3j8MtbBs0dEV",
   "metadata": {
    "id": "3j8MtbBs0dEV"
   },
   "source": [
    "We get 85% accuracy using the linear model, which is very low. We now implement non-linear model to check the accuracy."
   ]
  },
  {
   "cell_type": "markdown",
   "id": "f9sg9Fjr0yk8",
   "metadata": {
    "id": "f9sg9Fjr0yk8"
   },
   "source": [
    "### Non-linear model"
   ]
  },
  {
   "cell_type": "code",
   "execution_count": 12,
   "id": "cRWL4VtjjIwU",
   "metadata": {
    "colab": {
     "base_uri": "https://localhost:8080/"
    },
    "id": "cRWL4VtjjIwU",
    "outputId": "a674d685-4898-4c76-bec1-62d48e795759"
   },
   "outputs": [
    {
     "name": "stdout",
     "output_type": "stream",
     "text": [
      "Accuracy score for Support Vector (Non-Linear Model):  93.89999999999999 %\n",
      "0.939 0.939 0.939\n",
      "[[193   0   1   1   0   0   0   0   0   0   0   0   1   0   0   0   0   0\n",
      "    0   0   0   0   0   0   3   0]\n",
      " [  1 196   0   3   1   0   0   2   0   0   0   0   0   0   0   0   0   6\n",
      "    2   0   0   0   0   0   0   0]\n",
      " [  0   0 166   0   4   0   5   0   0   0   1   0   0   0   2   0   0   4\n",
      "    0   0   0   0   0   0   0   0]\n",
      " [  0   1   0 188   0   0   0   2   0   0   0   0   0   4   2   0   0   1\n",
      "    0   0   0   0   0   0   0   0]\n",
      " [  0   2   1   0 182   0   3   0   0   0   1   0   0   0   0   0   0   1\n",
      "    0   0   0   0   0   0   0   1]\n",
      " [  0   2   0   1   2 205   0   1   0   0   0   0   0   0   0   3   0   0\n",
      "    1   0   0   0   0   0   0   0]\n",
      " [  0   1   1   3   0   0 158   0   0   0   0   0   0   0   3   0   0   2\n",
      "    0   0   0   0   1   0   0   0]\n",
      " [  0   5   0   7   0   0   3 143   0   0   0   0   0   0   2   0   1   9\n",
      "    0   0   0   0   0   0   1   0]\n",
      " [  0   0   1   0   0   3   0   0 175   9   0   0   0   0   0   0   0   0\n",
      "    1   0   0   0   0   0   0   0]\n",
      " [  0   0   0   1   1   1   0   1   1 178   0   0   0   0   0   0   0   0\n",
      "    3   0   0   0   0   0   0   0]\n",
      " [  0   0   0   1   0   0   0   3   0   0 179   0   0   0   0   0   0   9\n",
      "    0   0   0   0   0   3   0   0]\n",
      " [  0   0   1   0   4   0   4   1   0   0   0 179   0   0   0   0   0   1\n",
      "    1   0   0   0   0   3   0   0]\n",
      " [  0   3   0   0   0   0   1   0   0   0   1   0 183   2   0   0   0   0\n",
      "    0   0   0   0   0   0   0   0]\n",
      " [  0   2   0   2   0   0   0   2   0   0   0   0   0 185   5   0   0   3\n",
      "    0   0   0   0   0   0   0   0]\n",
      " [  0   0   1   1   0   0   0   1   0   0   0   0   0   0 161   0   0   1\n",
      "    0   0   0   0   4   0   0   0]\n",
      " [  0   0   0   1   1  14   2   0   0   0   0   0   0   0   0 169   1   0\n",
      "    0   0   0   0   0   0   2   0]\n",
      " [  0   2   0   1   1   0   1   0   0   0   0   0   0   0   5   0 176   0\n",
      "    0   0   0   0   1   0   0   0]\n",
      " [  0   6   0   3   0   0   1   4   0   0   3   0   0   2   0   0   1 188\n",
      "    0   0   0   0   0   0   0   0]\n",
      " [  0   0   0   0   1   1   0   0   0   0   0   0   0   0   0   0   0   0\n",
      "  173   0   0   0   0   0   0   0]\n",
      " [  2   1   0   2   0   3   1   0   0   0   1   0   0   0   0   2   0   2\n",
      "    0 209   1   0   0   1   0   0]\n",
      " [  0   0   0   0   0   0   0   1   0   0   2   0   0   0   0   0   0   0\n",
      "    0   0 197   0   0   0   0   0]\n",
      " [  0   6   0   0   0   0   0   1   0   0   0   0   0   1   0   0   0   0\n",
      "    0   0   0 176   1   0   1   0]\n",
      " [  0   0   0   0   0   0   2   2   0   0   0   0   7   0   0   0   0   0\n",
      "    0   0   0   0 183   0   0   0]\n",
      " [  0   1   0   1   1   0   0   0   0   0   2   0   0   0   0   0   0   2\n",
      "    0   0   0   0   0 178   0   0]\n",
      " [  2   0   0   0   0   1   0   0   0   0   0   0   0   0   0   0   1   0\n",
      "    1   0   3   0   0   1 196   0]\n",
      " [  0   0   0   0   2   0   0   0   0   1   0   0   0   0   0   0   1   0\n",
      "    3   0   0   0   0   1   0 179]]\n",
      "              precision    recall  f1-score   support\n",
      "\n",
      "           A       0.97      0.97      0.97       199\n",
      "           B       0.86      0.93      0.89       211\n",
      "           C       0.97      0.91      0.94       182\n",
      "           D       0.87      0.95      0.91       198\n",
      "           E       0.91      0.95      0.93       191\n",
      "           F       0.90      0.95      0.93       215\n",
      "           G       0.87      0.93      0.90       169\n",
      "           H       0.87      0.84      0.85       171\n",
      "           I       0.99      0.93      0.96       189\n",
      "           J       0.95      0.96      0.95       186\n",
      "           K       0.94      0.92      0.93       195\n",
      "           L       1.00      0.92      0.96       194\n",
      "           M       0.96      0.96      0.96       190\n",
      "           N       0.95      0.93      0.94       199\n",
      "           O       0.89      0.95      0.92       169\n",
      "           P       0.97      0.89      0.93       190\n",
      "           Q       0.97      0.94      0.96       187\n",
      "           R       0.82      0.90      0.86       208\n",
      "           S       0.94      0.99      0.96       175\n",
      "           T       1.00      0.93      0.96       225\n",
      "           U       0.98      0.98      0.98       200\n",
      "           V       1.00      0.95      0.97       186\n",
      "           W       0.96      0.94      0.95       194\n",
      "           X       0.95      0.96      0.96       185\n",
      "           Y       0.97      0.96      0.96       205\n",
      "           Z       0.99      0.96      0.98       187\n",
      "\n",
      "    accuracy                           0.94      5000\n",
      "   macro avg       0.94      0.94      0.94      5000\n",
      "weighted avg       0.94      0.94      0.94      5000\n",
      "\n"
     ]
    }
   ],
   "source": [
    "# Creating and Training the Non-Linear model\n",
    "sv_clsfr_nl = SVC(kernel='rbf')\n",
    "sv_clsfr_nl.fit(X_train, y_train.values.ravel())\n",
    "\n",
    "# Testing accuracy of SVM Algorithm\n",
    "acc = accuracy_score(y_test, sv_clsfr_nl.predict(X_test))\n",
    "print('Accuracy score for Support Vector (Non-Linear Model): ', acc*100,'%')\n",
    "\n",
    "# Precision, Recall and F1-score on test split\n",
    "prec, rec, f, s = prfs(y_test, sv_clsfr_nl.predict(X_test), average=\"micro\")\n",
    "print(prec, rec, f)\n",
    "\n",
    "# Confusion matrix and classification report\n",
    "print(confusion_matrix(y_test, sv_clsfr_nl.predict(X_test)))\n",
    "print(classification_report(y_test, sv_clsfr_nl.predict(X_test)))"
   ]
  },
  {
   "cell_type": "markdown",
   "id": "YbPL_hTLjyhE",
   "metadata": {
    "id": "YbPL_hTLjyhE"
   },
   "source": [
    "We get 93.9% accuracy by the non-linear model. So now, performing Hyperparameter Tuning to find the optimal values of C and gamma with 10-fold cross validation."
   ]
  },
  {
   "cell_type": "code",
   "execution_count": 13,
   "id": "UbVJnejSbOCs",
   "metadata": {
    "colab": {
     "base_uri": "https://localhost:8080/",
     "height": 156
    },
    "id": "UbVJnejSbOCs",
    "outputId": "dd8e67f3-ca8a-4d12-a2fc-8bd37f5eabc8"
   },
   "outputs": [
    {
     "name": "stdout",
     "output_type": "stream",
     "text": [
      "Fitting 10 folds for each of 12 candidates, totalling 120 fits\n"
     ]
    },
    {
     "data": {
      "text/plain": [
       "GridSearchCV(cv=KFold(n_splits=10, random_state=101, shuffle=True),\n",
       "             estimator=SVC(),\n",
       "             param_grid=[{'C': [1, 10, 100, 1000],\n",
       "                          'gamma': [0.01, 0.001, 0.0001]}],\n",
       "             return_train_score=True, scoring='accuracy', verbose=1)"
      ]
     },
     "execution_count": 13,
     "metadata": {},
     "output_type": "execute_result"
    }
   ],
   "source": [
    "# Creating KFold\n",
    "fold = KFold(n_splits = 10, shuffle = True, random_state = 101)\n",
    "\n",
    "# Setting model and parameters\n",
    "model = SVC(kernel=\"rbf\")\n",
    "hyper_param = [ {'gamma': [1e-2, 1e-3, 1e-4],\n",
    "                     'C': [1, 10, 100, 1000]}]\n",
    "\n",
    "# Setting GridSearchCV()\n",
    "cv_model = GridSearchCV(estimator = model, \n",
    "                        param_grid = hyper_param, \n",
    "                        scoring= 'accuracy', \n",
    "                        cv = fold, \n",
    "                        verbose = 1,\n",
    "                        return_train_score=True)      \n",
    "\n",
    "# Fitting model\n",
    "cv_model.fit(X_train, y_train)"
   ]
  },
  {
   "cell_type": "code",
   "execution_count": 14,
   "id": "-bWIITRJbtrR",
   "metadata": {
    "colab": {
     "base_uri": "https://localhost:8080/",
     "height": 987
    },
    "id": "-bWIITRJbtrR",
    "outputId": "5d94e8a8-3957-4d1a-fb85-ccde03bad024"
   },
   "outputs": [
    {
     "data": {
      "text/html": [
       "<div>\n",
       "<style scoped>\n",
       "    .dataframe tbody tr th:only-of-type {\n",
       "        vertical-align: middle;\n",
       "    }\n",
       "\n",
       "    .dataframe tbody tr th {\n",
       "        vertical-align: top;\n",
       "    }\n",
       "\n",
       "    .dataframe thead th {\n",
       "        text-align: right;\n",
       "    }\n",
       "</style>\n",
       "<table border=\"1\" class=\"dataframe\">\n",
       "  <thead>\n",
       "    <tr style=\"text-align: right;\">\n",
       "      <th></th>\n",
       "      <th>mean_fit_time</th>\n",
       "      <th>std_fit_time</th>\n",
       "      <th>mean_score_time</th>\n",
       "      <th>std_score_time</th>\n",
       "      <th>param_C</th>\n",
       "      <th>param_gamma</th>\n",
       "      <th>params</th>\n",
       "      <th>split0_test_score</th>\n",
       "      <th>split1_test_score</th>\n",
       "      <th>split2_test_score</th>\n",
       "      <th>...</th>\n",
       "      <th>split2_train_score</th>\n",
       "      <th>split3_train_score</th>\n",
       "      <th>split4_train_score</th>\n",
       "      <th>split5_train_score</th>\n",
       "      <th>split6_train_score</th>\n",
       "      <th>split7_train_score</th>\n",
       "      <th>split8_train_score</th>\n",
       "      <th>split9_train_score</th>\n",
       "      <th>mean_train_score</th>\n",
       "      <th>std_train_score</th>\n",
       "    </tr>\n",
       "  </thead>\n",
       "  <tbody>\n",
       "    <tr>\n",
       "      <th>0</th>\n",
       "      <td>5.488967</td>\n",
       "      <td>1.689217</td>\n",
       "      <td>2.802145</td>\n",
       "      <td>1.028310</td>\n",
       "      <td>1</td>\n",
       "      <td>0.01</td>\n",
       "      <td>{'C': 1, 'gamma': 0.01}</td>\n",
       "      <td>0.847333</td>\n",
       "      <td>0.858667</td>\n",
       "      <td>0.849333</td>\n",
       "      <td>...</td>\n",
       "      <td>0.858148</td>\n",
       "      <td>0.856519</td>\n",
       "      <td>0.856444</td>\n",
       "      <td>0.855333</td>\n",
       "      <td>0.855704</td>\n",
       "      <td>0.855630</td>\n",
       "      <td>0.854889</td>\n",
       "      <td>0.854741</td>\n",
       "      <td>0.856007</td>\n",
       "      <td>0.001219</td>\n",
       "    </tr>\n",
       "    <tr>\n",
       "      <th>1</th>\n",
       "      <td>8.746239</td>\n",
       "      <td>0.079456</td>\n",
       "      <td>2.807985</td>\n",
       "      <td>0.070434</td>\n",
       "      <td>1</td>\n",
       "      <td>0.001</td>\n",
       "      <td>{'C': 1, 'gamma': 0.001}</td>\n",
       "      <td>0.682000</td>\n",
       "      <td>0.704667</td>\n",
       "      <td>0.696667</td>\n",
       "      <td>...</td>\n",
       "      <td>0.704296</td>\n",
       "      <td>0.706593</td>\n",
       "      <td>0.705481</td>\n",
       "      <td>0.705259</td>\n",
       "      <td>0.703259</td>\n",
       "      <td>0.708667</td>\n",
       "      <td>0.708815</td>\n",
       "      <td>0.706444</td>\n",
       "      <td>0.706126</td>\n",
       "      <td>0.002213</td>\n",
       "    </tr>\n",
       "    <tr>\n",
       "      <th>2</th>\n",
       "      <td>21.313119</td>\n",
       "      <td>1.971318</td>\n",
       "      <td>3.686254</td>\n",
       "      <td>0.375220</td>\n",
       "      <td>1</td>\n",
       "      <td>0.0001</td>\n",
       "      <td>{'C': 1, 'gamma': 0.0001}</td>\n",
       "      <td>0.268667</td>\n",
       "      <td>0.262667</td>\n",
       "      <td>0.246000</td>\n",
       "      <td>...</td>\n",
       "      <td>0.271185</td>\n",
       "      <td>0.294667</td>\n",
       "      <td>0.278815</td>\n",
       "      <td>0.296815</td>\n",
       "      <td>0.298667</td>\n",
       "      <td>0.308741</td>\n",
       "      <td>0.263333</td>\n",
       "      <td>0.269778</td>\n",
       "      <td>0.284985</td>\n",
       "      <td>0.015059</td>\n",
       "    </tr>\n",
       "    <tr>\n",
       "      <th>3</th>\n",
       "      <td>2.944722</td>\n",
       "      <td>0.257455</td>\n",
       "      <td>1.771480</td>\n",
       "      <td>0.162546</td>\n",
       "      <td>10</td>\n",
       "      <td>0.01</td>\n",
       "      <td>{'C': 10, 'gamma': 0.01}</td>\n",
       "      <td>0.919333</td>\n",
       "      <td>0.922000</td>\n",
       "      <td>0.915333</td>\n",
       "      <td>...</td>\n",
       "      <td>0.929778</td>\n",
       "      <td>0.933185</td>\n",
       "      <td>0.932963</td>\n",
       "      <td>0.931111</td>\n",
       "      <td>0.931333</td>\n",
       "      <td>0.930519</td>\n",
       "      <td>0.930593</td>\n",
       "      <td>0.932444</td>\n",
       "      <td>0.931281</td>\n",
       "      <td>0.001138</td>\n",
       "    </tr>\n",
       "    <tr>\n",
       "      <th>4</th>\n",
       "      <td>5.257276</td>\n",
       "      <td>0.364394</td>\n",
       "      <td>2.906497</td>\n",
       "      <td>0.139705</td>\n",
       "      <td>10</td>\n",
       "      <td>0.001</td>\n",
       "      <td>{'C': 10, 'gamma': 0.001}</td>\n",
       "      <td>0.817333</td>\n",
       "      <td>0.838000</td>\n",
       "      <td>0.820000</td>\n",
       "      <td>...</td>\n",
       "      <td>0.830148</td>\n",
       "      <td>0.828667</td>\n",
       "      <td>0.830741</td>\n",
       "      <td>0.829556</td>\n",
       "      <td>0.829852</td>\n",
       "      <td>0.829630</td>\n",
       "      <td>0.830222</td>\n",
       "      <td>0.829481</td>\n",
       "      <td>0.829785</td>\n",
       "      <td>0.000525</td>\n",
       "    </tr>\n",
       "    <tr>\n",
       "      <th>5</th>\n",
       "      <td>11.957966</td>\n",
       "      <td>0.407624</td>\n",
       "      <td>3.968754</td>\n",
       "      <td>0.328868</td>\n",
       "      <td>10</td>\n",
       "      <td>0.0001</td>\n",
       "      <td>{'C': 10, 'gamma': 0.0001}</td>\n",
       "      <td>0.681333</td>\n",
       "      <td>0.706667</td>\n",
       "      <td>0.694667</td>\n",
       "      <td>...</td>\n",
       "      <td>0.703481</td>\n",
       "      <td>0.705852</td>\n",
       "      <td>0.706593</td>\n",
       "      <td>0.705704</td>\n",
       "      <td>0.703407</td>\n",
       "      <td>0.708593</td>\n",
       "      <td>0.708815</td>\n",
       "      <td>0.706444</td>\n",
       "      <td>0.706007</td>\n",
       "      <td>0.002246</td>\n",
       "    </tr>\n",
       "    <tr>\n",
       "      <th>6</th>\n",
       "      <td>3.438912</td>\n",
       "      <td>0.222559</td>\n",
       "      <td>1.439506</td>\n",
       "      <td>0.115562</td>\n",
       "      <td>100</td>\n",
       "      <td>0.01</td>\n",
       "      <td>{'C': 100, 'gamma': 0.01}</td>\n",
       "      <td>0.948667</td>\n",
       "      <td>0.960667</td>\n",
       "      <td>0.942667</td>\n",
       "      <td>...</td>\n",
       "      <td>0.978963</td>\n",
       "      <td>0.979259</td>\n",
       "      <td>0.977630</td>\n",
       "      <td>0.979407</td>\n",
       "      <td>0.979185</td>\n",
       "      <td>0.978593</td>\n",
       "      <td>0.978148</td>\n",
       "      <td>0.978370</td>\n",
       "      <td>0.978667</td>\n",
       "      <td>0.000593</td>\n",
       "    </tr>\n",
       "    <tr>\n",
       "      <th>7</th>\n",
       "      <td>3.708575</td>\n",
       "      <td>0.718886</td>\n",
       "      <td>1.931790</td>\n",
       "      <td>0.259374</td>\n",
       "      <td>100</td>\n",
       "      <td>0.001</td>\n",
       "      <td>{'C': 100, 'gamma': 0.001}</td>\n",
       "      <td>0.863333</td>\n",
       "      <td>0.881333</td>\n",
       "      <td>0.862667</td>\n",
       "      <td>...</td>\n",
       "      <td>0.883333</td>\n",
       "      <td>0.881111</td>\n",
       "      <td>0.883556</td>\n",
       "      <td>0.880593</td>\n",
       "      <td>0.881111</td>\n",
       "      <td>0.879704</td>\n",
       "      <td>0.883407</td>\n",
       "      <td>0.880815</td>\n",
       "      <td>0.881437</td>\n",
       "      <td>0.001377</td>\n",
       "    </tr>\n",
       "    <tr>\n",
       "      <th>8</th>\n",
       "      <td>4.669037</td>\n",
       "      <td>0.361124</td>\n",
       "      <td>2.759688</td>\n",
       "      <td>0.274534</td>\n",
       "      <td>100</td>\n",
       "      <td>0.0001</td>\n",
       "      <td>{'C': 100, 'gamma': 0.0001}</td>\n",
       "      <td>0.809333</td>\n",
       "      <td>0.831333</td>\n",
       "      <td>0.812667</td>\n",
       "      <td>...</td>\n",
       "      <td>0.825185</td>\n",
       "      <td>0.824667</td>\n",
       "      <td>0.824370</td>\n",
       "      <td>0.820815</td>\n",
       "      <td>0.823259</td>\n",
       "      <td>0.823852</td>\n",
       "      <td>0.824519</td>\n",
       "      <td>0.824741</td>\n",
       "      <td>0.824015</td>\n",
       "      <td>0.001182</td>\n",
       "    </tr>\n",
       "    <tr>\n",
       "      <th>9</th>\n",
       "      <td>2.750088</td>\n",
       "      <td>0.028210</td>\n",
       "      <td>0.927482</td>\n",
       "      <td>0.008614</td>\n",
       "      <td>1000</td>\n",
       "      <td>0.01</td>\n",
       "      <td>{'C': 1000, 'gamma': 0.01}</td>\n",
       "      <td>0.953333</td>\n",
       "      <td>0.966667</td>\n",
       "      <td>0.944000</td>\n",
       "      <td>...</td>\n",
       "      <td>0.997037</td>\n",
       "      <td>0.996741</td>\n",
       "      <td>0.996593</td>\n",
       "      <td>0.996815</td>\n",
       "      <td>0.996815</td>\n",
       "      <td>0.996519</td>\n",
       "      <td>0.996963</td>\n",
       "      <td>0.996667</td>\n",
       "      <td>0.996770</td>\n",
       "      <td>0.000235</td>\n",
       "    </tr>\n",
       "    <tr>\n",
       "      <th>10</th>\n",
       "      <td>3.112311</td>\n",
       "      <td>0.117489</td>\n",
       "      <td>1.168020</td>\n",
       "      <td>0.075052</td>\n",
       "      <td>1000</td>\n",
       "      <td>0.001</td>\n",
       "      <td>{'C': 1000, 'gamma': 0.001}</td>\n",
       "      <td>0.902667</td>\n",
       "      <td>0.922000</td>\n",
       "      <td>0.908667</td>\n",
       "      <td>...</td>\n",
       "      <td>0.929778</td>\n",
       "      <td>0.932963</td>\n",
       "      <td>0.930667</td>\n",
       "      <td>0.929630</td>\n",
       "      <td>0.930667</td>\n",
       "      <td>0.930222</td>\n",
       "      <td>0.932593</td>\n",
       "      <td>0.931185</td>\n",
       "      <td>0.930837</td>\n",
       "      <td>0.001151</td>\n",
       "    </tr>\n",
       "    <tr>\n",
       "      <th>11</th>\n",
       "      <td>3.141526</td>\n",
       "      <td>0.427455</td>\n",
       "      <td>1.613548</td>\n",
       "      <td>0.098821</td>\n",
       "      <td>1000</td>\n",
       "      <td>0.0001</td>\n",
       "      <td>{'C': 1000, 'gamma': 0.0001}</td>\n",
       "      <td>0.842667</td>\n",
       "      <td>0.869333</td>\n",
       "      <td>0.848667</td>\n",
       "      <td>...</td>\n",
       "      <td>0.865556</td>\n",
       "      <td>0.865111</td>\n",
       "      <td>0.864815</td>\n",
       "      <td>0.862889</td>\n",
       "      <td>0.865185</td>\n",
       "      <td>0.861852</td>\n",
       "      <td>0.862963</td>\n",
       "      <td>0.861407</td>\n",
       "      <td>0.863467</td>\n",
       "      <td>0.001471</td>\n",
       "    </tr>\n",
       "  </tbody>\n",
       "</table>\n",
       "<p>12 rows × 32 columns</p>\n",
       "</div>"
      ],
      "text/plain": [
       "    mean_fit_time  std_fit_time  mean_score_time  std_score_time param_C  \\\n",
       "0        5.488967      1.689217         2.802145        1.028310       1   \n",
       "1        8.746239      0.079456         2.807985        0.070434       1   \n",
       "2       21.313119      1.971318         3.686254        0.375220       1   \n",
       "3        2.944722      0.257455         1.771480        0.162546      10   \n",
       "4        5.257276      0.364394         2.906497        0.139705      10   \n",
       "5       11.957966      0.407624         3.968754        0.328868      10   \n",
       "6        3.438912      0.222559         1.439506        0.115562     100   \n",
       "7        3.708575      0.718886         1.931790        0.259374     100   \n",
       "8        4.669037      0.361124         2.759688        0.274534     100   \n",
       "9        2.750088      0.028210         0.927482        0.008614    1000   \n",
       "10       3.112311      0.117489         1.168020        0.075052    1000   \n",
       "11       3.141526      0.427455         1.613548        0.098821    1000   \n",
       "\n",
       "   param_gamma                        params  split0_test_score  \\\n",
       "0         0.01       {'C': 1, 'gamma': 0.01}           0.847333   \n",
       "1        0.001      {'C': 1, 'gamma': 0.001}           0.682000   \n",
       "2       0.0001     {'C': 1, 'gamma': 0.0001}           0.268667   \n",
       "3         0.01      {'C': 10, 'gamma': 0.01}           0.919333   \n",
       "4        0.001     {'C': 10, 'gamma': 0.001}           0.817333   \n",
       "5       0.0001    {'C': 10, 'gamma': 0.0001}           0.681333   \n",
       "6         0.01     {'C': 100, 'gamma': 0.01}           0.948667   \n",
       "7        0.001    {'C': 100, 'gamma': 0.001}           0.863333   \n",
       "8       0.0001   {'C': 100, 'gamma': 0.0001}           0.809333   \n",
       "9         0.01    {'C': 1000, 'gamma': 0.01}           0.953333   \n",
       "10       0.001   {'C': 1000, 'gamma': 0.001}           0.902667   \n",
       "11      0.0001  {'C': 1000, 'gamma': 0.0001}           0.842667   \n",
       "\n",
       "    split1_test_score  split2_test_score  ...  split2_train_score  \\\n",
       "0            0.858667           0.849333  ...            0.858148   \n",
       "1            0.704667           0.696667  ...            0.704296   \n",
       "2            0.262667           0.246000  ...            0.271185   \n",
       "3            0.922000           0.915333  ...            0.929778   \n",
       "4            0.838000           0.820000  ...            0.830148   \n",
       "5            0.706667           0.694667  ...            0.703481   \n",
       "6            0.960667           0.942667  ...            0.978963   \n",
       "7            0.881333           0.862667  ...            0.883333   \n",
       "8            0.831333           0.812667  ...            0.825185   \n",
       "9            0.966667           0.944000  ...            0.997037   \n",
       "10           0.922000           0.908667  ...            0.929778   \n",
       "11           0.869333           0.848667  ...            0.865556   \n",
       "\n",
       "    split3_train_score  split4_train_score  split5_train_score  \\\n",
       "0             0.856519            0.856444            0.855333   \n",
       "1             0.706593            0.705481            0.705259   \n",
       "2             0.294667            0.278815            0.296815   \n",
       "3             0.933185            0.932963            0.931111   \n",
       "4             0.828667            0.830741            0.829556   \n",
       "5             0.705852            0.706593            0.705704   \n",
       "6             0.979259            0.977630            0.979407   \n",
       "7             0.881111            0.883556            0.880593   \n",
       "8             0.824667            0.824370            0.820815   \n",
       "9             0.996741            0.996593            0.996815   \n",
       "10            0.932963            0.930667            0.929630   \n",
       "11            0.865111            0.864815            0.862889   \n",
       "\n",
       "    split6_train_score  split7_train_score  split8_train_score  \\\n",
       "0             0.855704            0.855630            0.854889   \n",
       "1             0.703259            0.708667            0.708815   \n",
       "2             0.298667            0.308741            0.263333   \n",
       "3             0.931333            0.930519            0.930593   \n",
       "4             0.829852            0.829630            0.830222   \n",
       "5             0.703407            0.708593            0.708815   \n",
       "6             0.979185            0.978593            0.978148   \n",
       "7             0.881111            0.879704            0.883407   \n",
       "8             0.823259            0.823852            0.824519   \n",
       "9             0.996815            0.996519            0.996963   \n",
       "10            0.930667            0.930222            0.932593   \n",
       "11            0.865185            0.861852            0.862963   \n",
       "\n",
       "    split9_train_score  mean_train_score  std_train_score  \n",
       "0             0.854741          0.856007         0.001219  \n",
       "1             0.706444          0.706126         0.002213  \n",
       "2             0.269778          0.284985         0.015059  \n",
       "3             0.932444          0.931281         0.001138  \n",
       "4             0.829481          0.829785         0.000525  \n",
       "5             0.706444          0.706007         0.002246  \n",
       "6             0.978370          0.978667         0.000593  \n",
       "7             0.880815          0.881437         0.001377  \n",
       "8             0.824741          0.824015         0.001182  \n",
       "9             0.996667          0.996770         0.000235  \n",
       "10            0.931185          0.930837         0.001151  \n",
       "11            0.861407          0.863467         0.001471  \n",
       "\n",
       "[12 rows x 32 columns]"
      ]
     },
     "execution_count": 14,
     "metadata": {},
     "output_type": "execute_result"
    }
   ],
   "source": [
    "# Viewing result\n",
    "cv_result = pd.DataFrame(cv_model.cv_results_)\n",
    "cv_result"
   ]
  },
  {
   "cell_type": "code",
   "execution_count": 15,
   "id": "LUOYG7Jwb4ii",
   "metadata": {
    "colab": {
     "base_uri": "https://localhost:8080/",
     "height": 501
    },
    "id": "LUOYG7Jwb4ii",
    "outputId": "5f101ac7-c55f-4bb6-c2f6-4a8532d22eba"
   },
   "outputs": [
    {
     "data": {
      "image/png": "[encoded data removed]",
      "text/plain": [
       "<Figure size 1600x600 with 3 Axes>"
      ]
     },
     "metadata": {},
     "output_type": "display_data"
    }
   ],
   "source": [
    "# Plotting results\n",
    "\n",
    "# Converting C to numeric type for plotting\n",
    "cv_result['param_C'] = cv_result['param_C'].astype('int')\n",
    "\n",
    "plt.figure(figsize=(16,6))\n",
    "\n",
    "# Plot 1\n",
    "plt.subplot(131)\n",
    "gamma_01 = cv_result[cv_result['param_gamma']==0.01]\n",
    "\n",
    "plt.plot(gamma_01[\"param_C\"], gamma_01[\"mean_test_score\"])\n",
    "plt.plot(gamma_01[\"param_C\"], gamma_01[\"mean_train_score\"])\n",
    "plt.xlabel('C')\n",
    "plt.ylabel('Accuracy')\n",
    "plt.title(\"Gamma=0.01\")\n",
    "plt.ylim([0.60, 1])\n",
    "plt.legend(['Test accuracy', 'Train accuracy'])\n",
    "plt.xscale('log')\n",
    "\n",
    "# Plot 2\n",
    "plt.subplot(132)\n",
    "gamma_001 = cv_result[cv_result['param_gamma']==0.001]\n",
    "\n",
    "plt.plot(gamma_001[\"param_C\"], gamma_001[\"mean_test_score\"])\n",
    "plt.plot(gamma_001[\"param_C\"], gamma_001[\"mean_train_score\"])\n",
    "plt.xlabel('C')\n",
    "plt.ylabel('Accuracy')\n",
    "plt.title(\"Gamma=0.001\")\n",
    "plt.ylim([0.60, 1])\n",
    "plt.legend(['Test accuracy', 'Train accuracy'])\n",
    "plt.xscale('log')\n",
    "\n",
    "# Plot 3\n",
    "plt.subplot(133)\n",
    "gamma_0001 = cv_result[cv_result['param_gamma']==0.0001]\n",
    "\n",
    "plt.plot(gamma_0001[\"param_C\"], gamma_0001[\"mean_test_score\"])\n",
    "plt.plot(gamma_0001[\"param_C\"], gamma_0001[\"mean_train_score\"])\n",
    "plt.xlabel('C')\n",
    "plt.ylabel('Accuracy')\n",
    "plt.title(\"Gamma=0.0001\")\n",
    "plt.ylim([0.60, 1])\n",
    "plt.legend(['Test accuracy', 'Train accuracy'])\n",
    "plt.xscale('log')"
   ]
  },
  {
   "cell_type": "code",
   "execution_count": 16,
   "id": "RD3aO9f0cKnK",
   "metadata": {
    "colab": {
     "base_uri": "https://localhost:8080/"
    },
    "id": "RD3aO9f0cKnK",
    "outputId": "94d3cdd2-8793-4b4a-f618-32fccb9bc7ad"
   },
   "outputs": [
    {
     "name": "stdout",
     "output_type": "stream",
     "text": [
      "Best test score is 0.9565333333333333 with hyperparameters {'C': 1000, 'gamma': 0.01}\n"
     ]
    }
   ],
   "source": [
    "# Calculating optimal accuracy score and hyperparameters\n",
    "best_score = cv_model.best_score_\n",
    "best_hyperparam = cv_model.best_params_\n",
    "print(\"Best test score is {0} with hyperparameters {1}\".format(best_score, best_hyperparam))"
   ]
  },
  {
   "cell_type": "markdown",
   "id": "QwY0LftQRh-4",
   "metadata": {
    "id": "QwY0LftQRh-4"
   },
   "source": [
    "Building and Evaluating the Final Model with highest test accuracy."
   ]
  },
  {
   "cell_type": "code",
   "execution_count": 18,
   "id": "KD4THJFjcW7L",
   "metadata": {
    "colab": {
     "base_uri": "https://localhost:8080/"
    },
    "id": "KD4THJFjcW7L",
    "outputId": "38c9784d-503b-46cc-d654-cded0f3113b9"
   },
   "outputs": [
    {
     "name": "stdout",
     "output_type": "stream",
     "text": [
      "Accuracy score for Support Vector Algorithm(Non-Linear model) after hyperparmeter tuning:  95.74000000000001 %\n",
      "0.9574 0.9574 0.9574\n",
      "              precision    recall  f1-score   support\n",
      "\n",
      "           A       0.99      0.99      0.99       199\n",
      "           B       0.94      0.95      0.94       211\n",
      "           C       0.96      0.96      0.96       182\n",
      "           D       0.91      0.96      0.94       198\n",
      "           E       0.93      0.95      0.94       191\n",
      "           F       0.92      0.97      0.94       215\n",
      "           G       0.94      0.95      0.94       169\n",
      "           H       0.91      0.92      0.91       171\n",
      "           I       0.97      0.97      0.97       189\n",
      "           J       0.98      0.95      0.96       186\n",
      "           K       0.92      0.95      0.93       195\n",
      "           L       0.99      0.96      0.98       194\n",
      "           M       0.97      0.98      0.97       190\n",
      "           N       0.95      0.95      0.95       199\n",
      "           O       0.94      0.96      0.95       169\n",
      "           P       0.94      0.94      0.94       190\n",
      "           Q       0.97      0.97      0.97       187\n",
      "           R       0.93      0.92      0.93       208\n",
      "           S       0.96      0.97      0.96       175\n",
      "           T       1.00      0.94      0.97       225\n",
      "           U       0.98      0.98      0.98       200\n",
      "           V       0.98      0.94      0.96       186\n",
      "           W       0.98      0.95      0.97       194\n",
      "           X       0.98      0.96      0.97       185\n",
      "           Y       0.97      0.96      0.96       205\n",
      "           Z       0.99      0.98      0.98       187\n",
      "\n",
      "    accuracy                           0.96      5000\n",
      "   macro avg       0.96      0.96      0.96      5000\n",
      "weighted avg       0.96      0.96      0.96      5000\n",
      "\n"
     ]
    }
   ],
   "source": [
    "# Creating and Training the Support Vector Classifier\n",
    "sv_model = SVC(C=1000, gamma=0.01, kernel=\"rbf\")\n",
    "sv_model.fit(X_train, y_train)\n",
    "\n",
    "# Testing accuracy of Support Vector algorithm\n",
    "acc = accuracy_score(y_test,sv_model.predict(X_test))\n",
    "print('Accuracy score for Support Vector Algorithm(Non-Linear model) after hyperparmeter tuning: ', acc*100,'%')\n",
    "\n",
    "# Precision, Recall and F1-score on test split\n",
    "prec, rec, f, s = prfs(y_test,sv_model.predict(X_test), average=\"micro\")\n",
    "print(prec, rec, f)\n",
    "print(classification_report(y_test, sv_model.predict(X_test)))"
   ]
  }
 ],
 "metadata": {
  "colab": {
   "provenance": []
  },
  "kernelspec": {
   "display_name": "Python 3 (ipykernel)",
   "language": "python",
   "name": "python3"
  },
  "language_info": {
   "codemirror_mode": {
    "name": "ipython",
    "version": 3
   },
   "file_extension": ".py",
   "mimetype": "text/x-python",
   "name": "python",
   "nbconvert_exporter": "python",
   "pygments_lexer": "ipython3",
   "version": "3.9.13"
  }
 },
 "nbformat": 4,
 "nbformat_minor": 5
}
